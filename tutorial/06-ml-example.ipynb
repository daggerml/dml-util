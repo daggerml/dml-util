{
 "cells": [
  {
   "cell_type": "code",
   "execution_count": 11,
   "id": "e5fea98c",
   "metadata": {},
   "outputs": [],
   "source": [
    "from daggerml import Dml, Error, Resource\n",
    "from dml_util import funkify, S3Store, funk\n",
    "import os"
   ]
  },
  {
   "cell_type": "code",
   "execution_count": null,
   "id": "14c4d7d4",
   "metadata": {},
   "outputs": [],
   "source": [
    "os.environ[\"DML_S3_BUCKET\"] =\"dml-examples\"\n",
    "os.environ[\"DML_S3_PREFIX\"] =\"clustering\"\n",
    "os.environ[\"DML_DEBUG\"] = \"1\""
   ]
  },
  {
   "cell_type": "code",
   "execution_count": 22,
   "id": "ce970efc",
   "metadata": {},
   "outputs": [],
   "source": [
    "DOCKER_CONTEXT_DIR =\"./dkr-context\"\n",
    "AWS_CREDS = os.path.expanduser(\"~/.aws/credentials\")\n",
    "DOCKER_FLAGS = [\"-v\", f\"{AWS_CREDS}:/root/.aws/credentials:ro\", \"-e\",\"AWS_SHARED_CREDENTIALS_FILE=/root/.aws/credentials\"]"
   ]
  },
  {
   "cell_type": "code",
   "execution_count": 37,
   "id": "7007e613",
   "metadata": {},
   "outputs": [],
   "source": [
    "dml = Dml(repo=\"tutorial\", branch=\"main\")\n",
    "dag = dml.new(\"ml-example\")\n",
    "s3 = S3Store()\n"
   ]
  },
  {
   "cell_type": "code",
   "execution_count": 42,
   "id": "59b7ce0e",
   "metadata": {},
   "outputs": [
    {
     "name": "stderr",
     "output_type": "stream",
     "text": [
      "[d01113ea] INFO dml_util.adapters.base: CloudWatch logging not enabled due to AWS access error: An error occurred (ResourceNotFoundException) when calling the DescribeLogStreams operation: The specified log group does not exist.\n",
      "[d01113ea] DEBUG dml_util.adapters.base: reading data from <_io.TextIOWrapper name='<stdin>' mode='r' encoding='utf-8'>\n",
      "[d01113ea] INFO dml_util.runners.base: getting info from 'LocalState'\n",
      "[d01113ea] DEBUG dml_util.runners.local: Submitting script to local runner\n",
      "[d01113ea] DEBUG dml_util.runners.local: Environment for script: {\"DML_S3_BUCKET\": \"dml-examples\", \"DML_S3_PREFIX\": \"clustering\", \"DML_LOG_GROUP\": \"dml\", \"DML_RUN_ID\": \"d01113ea\", \"DML_DEBUG\": \"1\", \"DML_INPUT_LOC\": \"/tmp/dml.j_o7u1f8/input.dump\", \"DML_OUTPUT_LOC\": \"/tmp/dml.j_o7u1f8/output.dump\", \"DML_LOG_STDOUT\": \"/run/a2b82e541ec19cfcc8021b3794b92c02/stdout\", \"DML_LOG_STDERR\": \"/run/a2b82e541ec19cfcc8021b3794b92c02/stderr\"}\n",
      "[d01113ea] INFO dml_util.runners.local: Process 151040 started in /tmp/dml.j_o7u1f8\n",
      "[d01113ea] INFO dml_util.runners.base: pid = 151040 started\n",
      "[d01113ea] DEBUG dml_util.adapters.base: response: None\n",
      "[d01113ea] INFO dml_util.adapters.base: message: 'scriptrunner [a2b82e541ec19cfcc8021b3794b92c02] :: pid = 151040 started'\n",
      "scriptrunner [a2b82e541ec19cfcc8021b3794b92c02] :: pid = 151040 started\n",
      "[92958677] INFO dml_util.adapters.base: CloudWatch logging not enabled due to AWS access error: An error occurred (ResourceNotFoundException) when calling the DescribeLogStreams operation: The specified log group does not exist.\n",
      "[92958677] DEBUG dml_util.adapters.base: reading data from <_io.TextIOWrapper name='<stdin>' mode='r' encoding='utf-8'>\n",
      "[92958677] INFO dml_util.runners.base: getting info from 'LocalState'\n",
      "[92958677] DEBUG dml_util.runners.local: Process 151040 is still running\n",
      "[92958677] INFO dml_util.runners.base: pid = 151040 running\n",
      "[92958677] DEBUG dml_util.adapters.base: response: None\n",
      "[92958677] INFO dml_util.adapters.base: message: 'scriptrunner [a2b82e541ec19cfcc8021b3794b92c02] :: pid = 151040 running'\n",
      "scriptrunner [a2b82e541ec19cfcc8021b3794b92c02] :: pid = 151040 running\n",
      "[9bb91eb1] INFO dml_util.adapters.base: CloudWatch logging not enabled due to AWS access error: An error occurred (ResourceNotFoundException) when calling the DescribeLogStreams operation: The specified log group does not exist.\n",
      "[9bb91eb1] DEBUG dml_util.adapters.base: reading data from <_io.TextIOWrapper name='<stdin>' mode='r' encoding='utf-8'>\n",
      "[9bb91eb1] INFO dml_util.runners.base: getting info from 'LocalState'\n",
      "[9bb91eb1] DEBUG dml_util.runners.local: Process 151040 is still running\n",
      "[9bb91eb1] INFO dml_util.runners.base: pid = 151040 running\n",
      "[9bb91eb1] DEBUG dml_util.adapters.base: response: None\n",
      "[9bb91eb1] INFO dml_util.adapters.base: message: 'scriptrunner [a2b82e541ec19cfcc8021b3794b92c02] :: pid = 151040 running'\n",
      "scriptrunner [a2b82e541ec19cfcc8021b3794b92c02] :: pid = 151040 running\n",
      "[948e805f] INFO dml_util.adapters.base: CloudWatch logging not enabled due to AWS access error: An error occurred (ResourceNotFoundException) when calling the DescribeLogStreams operation: The specified log group does not exist.\n",
      "[948e805f] DEBUG dml_util.adapters.base: reading data from <_io.TextIOWrapper name='<stdin>' mode='r' encoding='utf-8'>\n",
      "[948e805f] INFO dml_util.runners.base: getting info from 'LocalState'\n",
      "[948e805f] DEBUG dml_util.runners.local: Process 151040 is still running\n",
      "[948e805f] INFO dml_util.runners.base: pid = 151040 running\n",
      "[948e805f] DEBUG dml_util.adapters.base: response: None\n",
      "[948e805f] INFO dml_util.adapters.base: message: 'scriptrunner [a2b82e541ec19cfcc8021b3794b92c02] :: pid = 151040 running'\n",
      "scriptrunner [a2b82e541ec19cfcc8021b3794b92c02] :: pid = 151040 running\n",
      "[2750c312] INFO dml_util.adapters.base: CloudWatch logging not enabled due to AWS access error: An error occurred (ResourceNotFoundException) when calling the DescribeLogStreams operation: The specified log group does not exist.\n",
      "[2750c312] DEBUG dml_util.adapters.base: reading data from <_io.TextIOWrapper name='<stdin>' mode='r' encoding='utf-8'>\n",
      "[2750c312] INFO dml_util.runners.base: getting info from 'LocalState'\n",
      "[2750c312] DEBUG dml_util.runners.local: Process 151040 is still running\n",
      "[2750c312] INFO dml_util.runners.base: pid = 151040 running\n",
      "[2750c312] DEBUG dml_util.adapters.base: response: None\n",
      "[2750c312] INFO dml_util.adapters.base: message: 'scriptrunner [a2b82e541ec19cfcc8021b3794b92c02] :: pid = 151040 running'\n",
      "scriptrunner [a2b82e541ec19cfcc8021b3794b92c02] :: pid = 151040 running\n",
      "[e5af5745] INFO dml_util.adapters.base: CloudWatch logging not enabled due to AWS access error: An error occurred (ResourceNotFoundException) when calling the DescribeLogStreams operation: The specified log group does not exist.\n",
      "[e5af5745] DEBUG dml_util.adapters.base: reading data from <_io.TextIOWrapper name='<stdin>' mode='r' encoding='utf-8'>\n",
      "[e5af5745] INFO dml_util.runners.base: getting info from 'LocalState'\n",
      "[e5af5745] DEBUG dml_util.runners.local: Process 151040 is still running\n",
      "[e5af5745] INFO dml_util.runners.base: pid = 151040 running\n",
      "[e5af5745] DEBUG dml_util.adapters.base: response: None\n",
      "[e5af5745] INFO dml_util.adapters.base: message: 'scriptrunner [a2b82e541ec19cfcc8021b3794b92c02] :: pid = 151040 running'\n",
      "scriptrunner [a2b82e541ec19cfcc8021b3794b92c02] :: pid = 151040 running\n",
      "[8f486dcb] INFO dml_util.adapters.base: CloudWatch logging not enabled due to AWS access error: An error occurred (ResourceNotFoundException) when calling the DescribeLogStreams operation: The specified log group does not exist.\n",
      "[8f486dcb] DEBUG dml_util.adapters.base: reading data from <_io.TextIOWrapper name='<stdin>' mode='r' encoding='utf-8'>\n",
      "[8f486dcb] INFO dml_util.runners.base: getting info from 'LocalState'\n",
      "[8f486dcb] INFO dml_util.runners.local: Process 151040 finished, checking output\n",
      "[8f486dcb] DEBUG dml_util.runners.local: Process 151040 wrote output. Returning.\n",
      "[8f486dcb] INFO dml_util.runners.base: pid = 151040 finished\n",
      "[8f486dcb] DEBUG dml_util.runners.local: Cleaning up state: {'pid': 151040, 'tmpd': '/tmp/dml.j_o7u1f8'}\n",
      "[8f486dcb] DEBUG dml_util.runners.local: Killing process 151040\n",
      "[8f486dcb] DEBUG dml_util.core.utils: command: 'kill -9 151040 || echo'\n",
      "[8f486dcb] DEBUG dml_util.core.utils: stderr: '/bin/sh: 1: kill: No such process'\n",
      "[8f486dcb] DEBUG dml_util.core.utils: end STDERR for command: 'kill -9 151040 || echo'\n",
      "[8f486dcb] DEBUG dml_util.runners.local: Removing temporary directory /tmp/dml.j_o7u1f8\n",
      "[8f486dcb] DEBUG dml_util.core.utils: command: 'rm -r /tmp/dml.j_o7u1f8 || echo'\n",
      "[8f486dcb] DEBUG dml_util.core.utils: end STDERR for command: 'rm -r /tmp/dml.j_o7u1f8 || echo'\n",
      "[8f486dcb] DEBUG dml_util.runners.local: Calling super().gc()\n",
      "[8f486dcb] DEBUG dml_util.adapters.base: response: '[\"l\",[\"l\",[\"Ref\",\"datum/4032b81eaeacc58ee5f2340e17933be3\"],[\"Datum\",\"linux/amd64\"]],[\"l\",[\"Ref\",\"datum/cb74f44f69af287aadea41046e9d021a\"],[\"Datum\",\"--platform\"]],[\"l\",[\"Ref\",\"datum/e13bff147889b4db5727939f65ede58b\"],[\"Datum\",[\"l\",[\"Ref\",\"datum/812fa348d6ee56d11eac119e4d6a09d4\"],[\"Ref\",\"datum/a2b82e541ec19cfcc8021b3794b92c02\"],[\"Ref\",\"datum/0443ff77768b8cff90b49fad4c3ce034\"]]]],[\"l\",[\"Ref\",\"datum/89f6d21f7abf0e6282a0402646fe20f5\"],[\"Datum\",[\"l\",[\"Ref\",\"datum/812fa348d6ee56d11eac119e4d6a09d4\"],[\"Ref\",\"datum/a2b82e541ec19cfcc8021b3794b92c02\"],[\"Ref\",\"datum/e3daf00b1fd186b4da8697b086d825c0\"]]]],[\"l\",[\"Ref\",\"datum/f5d4b5c91ab56476c458cbf1e8ae71ea\"],[\"Datum\",[\"l\",[\"Ref\",\"datum/812fa348d6ee56d11eac119e4d6a09d4\"],[\"Ref\",\"datum/06160c56e82f3cc84741f873fe55c77f\"],[\"Ref\",\"datum/582b76a8f38c91dc854930ec03a26248\"]]]],[\"l\",[\"Ref\",\"datum/66f08dfe7526a728cf9ce94d976a5a45\"],[\"Datum\",\"37ca837148e5492e84763206736db2d1\"]],[\"l\",[\"Ref\",\"datum/eafdae37107b02ae5d01f0079a6f15ea\"],[\"Datum\",[\"Resource\",\"dml:37ca837148e5492e84763206736db2d1\",null,null]]],[\"l\",[\"Ref\",\"datum/01d402870753471306018004821c60ed\"],[\"Datum\",\"clustering\"]],[\"l\",[\"Ref\",\"datum/c6417fa6845d09de6028b673d7989d2f\"],[\"Datum\",\"dml-examples\"]],[\"l\",[\"Ref\",\"datum/c579701c1fa43bcc12e056ef047e5fa5\"],[\"Datum\",\"d01113ea\"]],[\"l\",[\"Ref\",\"datum/ccd558f89c340e733916d1c9f872919d\"],[\"Datum\",\"/tmp/dml.j_o7u1f8/output.dump\"]],[\"l\",[\"Ref\",\"datum/b85428ea41a322876c1a1f9f5d741ef3\"],[\"Datum\",\"/run/a2b82e541ec19cfcc8021b3794b92c02/stdout\"]],[\"l\",[\"Ref\",\"datum/a53bd8b2eab2d0f0afd9e98e538a3af7\"],[\"Datum\",\"/run/a2b82e541ec19cfcc8021b3794b92c02/stderr\"]],[\"l\",[\"Ref\",\"datum/72b1497ce2261383e896875243e57bee\"],[\"Datum\",\"dml\"]],[\"l\",[\"Ref\",\"datum/ee50c159e765888390b9aa0d8fe8fb29\"],[\"Datum\",\"/tmp/dml.j_o7u1f8/input.dump\"]],[\"l\",[\"Ref\",\"datum/abf2cd96b9d4465df881fdcc6e5f4072\"],[\"Datum\",\"1\"]],[\"l\",[\"Ref\",\"datum/c46a9a96861171141fb4ad9e2662b0fc\"],[\"Datum\",\"/home/daavid/.config/dml/cachedb\"]],[\"l\",[\"Ref\",\"datum/80f4ced45eff35c298a63adb2e8bcdb4\"],[\"Datum\",\"a2b82e541ec19cfcc8021b3794b92c02\"]],[\"l\",[\"Ref\",\"datum/6447dee5a8a478be94e005fb9073f0cc\"],[\"Datum\",\"?? examples/\\\\n?? tutorial/06-ml-example.ipynb\\\\n?? tutorial/dkr-context/\"]],[\"l\",[\"Ref\",\"datum/03582d22474ec138cc140a4d29f16664\"],[\"Datum\",\"git@github.com:daggerml/dml-util.git\"]],[\"l\",[\"Ref\",\"datum/9b39a300e5e925275ae03a701a9cc551\"],[\"Datum\",\"73f54e135184644f7eb720a22dd093efeaf208cd\"]],[\"l\",[\"Ref\",\"datum/a98c502d2eacdf786bbe8e8c50f8492c\"],[\"Datum\",\"bug-fix/connectionrefusederror\"]],[\"l\",[\"Ref\",\"datum/f06b81794a8977ca139a239770cc6e0a\"],[\"Datum\",[\"l\",[\"Ref\",\"datum/cb74f44f69af287aadea41046e9d021a\"],[\"Ref\",\"datum/4032b81eaeacc58ee5f2340e17933be3\"]]]],[\"l\",[\"Ref\",\"datum/7c1201d9cf9b79791860231df42f88bc\"],[\"Datum\",[\"Resource\",\"s3://dml-examples/clustering/data/f0fd6e4a48117e387633d6cda6327c62f2999ec58fd96262d29a57a1f69ab03d.tar\",null,null]]],[\"l\",[\"Ref\",\"datum/1d704eeac8600ae5f4a67858f706d8cb\"],[\"Datum\",[\"Resource\",\"script\",[\"d\",[\"cmd\",[\"l\",\"python3\"]],[\"script\",\"#!/usr/bin/env python3\\\\nfrom dml_util import aws_fndag\\\\n\\\\ndef dkr_build(dag):\\\\n    from dml_util.lib.dkr import Ecr\\\\n\\\\n    dag.info = Ecr().build(\\\\n        dag.argv[1].value(),\\\\n        dag.argv[2].value() if len(dag.argv) > 2 else [],\\\\n        repo=dag.argv[3].value() if len(dag.argv) > 3 else None,\\\\n    )\\\\n    dag.result = dag.info[\\\\\"image\\\\\"]\\\\n\\\\nif __name__ == \\\\\"__main__\\\\\":\\\\n    with aws_fndag() as dag:\\\\n        res = dkr_build(dag)\\\\n        if dag._ref is None:\\\\n            dag.result = res\"],[\"suffix\",\".py\"]],\"dml-util-local-adapter\"]]],[\"l\",[\"Ref\",\"node/630932e59a4c7a1c1aafd4f3e00d5219\"],[\"Node\",[\"Argv\",[\"Ref\",\"datum/e13bff147889b4db5727939f65ede58b\"]],null]],[\"l\",[\"Ref\",\"node/a572aa22a0137bdacbe0f1e87bce5a78\"],[\"Node\",[\"Literal\",[\"Ref\",\"datum/f06b81794a8977ca139a239770cc6e0a\"]],null]],[\"l\",[\"Ref\",\"node/ee3826463f547a8a43328ace3aab0786\"],[\"Node\",[\"Argv\",[\"Ref\",\"datum/89f6d21f7abf0e6282a0402646fe20f5\"]],null]],[\"l\",[\"Ref\",\"node/c39f149b4663146aec8004c91644e6cd\"],[\"Node\",[\"Literal\",[\"Ref\",\"datum/7c1201d9cf9b79791860231df42f88bc\"]],null]],[\"l\",[\"Ref\",\"node/98b0b5c8c146cc5d30a29c3e16efe879\"],[\"Node\",[\"Argv\",[\"Ref\",\"datum/f5d4b5c91ab56476c458cbf1e8ae71ea\"]],null]],[\"l\",[\"Ref\",\"node/75fe9bcf53e4ffe69419d6b8224c5b3a\"],[\"Node\",[\"Literal\",[\"Ref\",\"datum/eafdae37107b02ae5d01f0079a6f15ea\"]],null]],[\"l\",[\"Ref\",\"datum/582b76a8f38c91dc854930ec03a26248\"],[\"Datum\",\"image\"]],[\"l\",[\"Ref\",\"datum/06160c56e82f3cc84741f873fe55c77f\"],[\"Datum\",[\"d\",[\"image\",[\"Ref\",\"datum/eafdae37107b02ae5d01f0079a6f15ea\"]],[\"tag\",[\"Ref\",\"datum/66f08dfe7526a728cf9ce94d976a5a45\"]]]]],[\"l\",[\"Ref\",\"fndag/f70127ee0ec9de0861e55228f7be4d91\"],[\"FnDag\",[\"l\",[\"Ref\",\"node/630932e59a4c7a1c1aafd4f3e00d5219\"],[\"Ref\",\"node/a572aa22a0137bdacbe0f1e87bce5a78\"]],[\"d\"],[\"Ref\",\"node/a572aa22a0137bdacbe0f1e87bce5a78\"],null,[\"Ref\",\"node/630932e59a4c7a1c1aafd4f3e00d5219\"]]],[\"l\",[\"Ref\",\"datum/0443ff77768b8cff90b49fad4c3ce034\"],[\"Datum\",2]],[\"l\",[\"Ref\",\"fndag/2aa3e9ffaba0147b38d97cb60a7526d4\"],[\"FnDag\",[\"l\",[\"Ref\",\"node/ee3826463f547a8a43328ace3aab0786\"],[\"Ref\",\"node/c39f149b4663146aec8004c91644e6cd\"]],[\"d\"],[\"Ref\",\"node/c39f149b4663146aec8004c91644e6cd\"],null,[\"Ref\",\"node/ee3826463f547a8a43328ace3aab0786\"]]],[\"l\",[\"Ref\",\"datum/e3daf00b1fd186b4da8697b086d825c0\"],[\"Datum\",1]],[\"l\",[\"Ref\",\"datum/812fa348d6ee56d11eac119e4d6a09d4\"],[\"Datum\",[\"Resource\",\"daggerml:get\",null,null]]],[\"l\",[\"Ref\",\"datum/2108bfcb660d433a8962c8b4782d60b3\"],[\"Datum\",[\"d\",[\"cache_key\",[\"Ref\",\"datum/80f4ced45eff35c298a63adb2e8bcdb4\"]],[\"cache_path\",[\"Ref\",\"datum/c46a9a96861171141fb4ad9e2662b0fc\"]],[\"debug\",[\"Ref\",\"datum/abf2cd96b9d4465df881fdcc6e5f4072\"]],[\"input_loc\",[\"Ref\",\"datum/ee50c159e765888390b9aa0d8fe8fb29\"]],[\"log_group\",[\"Ref\",\"datum/72b1497ce2261383e896875243e57bee\"]],[\"log_stderr\",[\"Ref\",\"datum/a53bd8b2eab2d0f0afd9e98e538a3af7\"]],[\"log_stdout\",[\"Ref\",\"datum/b85428ea41a322876c1a1f9f5d741ef3\"]],[\"output_loc\",[\"Ref\",\"datum/ccd558f89c340e733916d1c9f872919d\"]],[\"run_id\",[\"Ref\",\"datum/c579701c1fa43bcc12e056ef047e5fa5\"]],[\"s3_bucket\",[\"Ref\",\"datum/c6417fa6845d09de6028b673d7989d2f\"]],[\"s3_prefix\",[\"Ref\",\"datum/01d402870753471306018004821c60ed\"]]]]],[\"l\",[\"Ref\",\"datum/3306ed4ea88f4a0927444be51dbeb2e4\"],[\"Datum\",[\"d\",[\"branch\",[\"Ref\",\"datum/a98c502d2eacdf786bbe8e8c50f8492c\"]],[\"commit\",[\"Ref\",\"datum/9b39a300e5e925275ae03a701a9cc551\"]],[\"remote\",[\"Ref\",\"datum/03582d22474ec138cc140a4d29f16664\"]],[\"status\",[\"Ref\",\"datum/6447dee5a8a478be94e005fb9073f0cc\"]]]]],[\"l\",[\"Ref\",\"datum/a2b82e541ec19cfcc8021b3794b92c02\"],[\"Datum\",[\"l\",[\"Ref\",\"datum/1d704eeac8600ae5f4a67858f706d8cb\"],[\"Ref\",\"datum/7c1201d9cf9b79791860231df42f88bc\"],[\"Ref\",\"datum/f06b81794a8977ca139a239770cc6e0a\"]]]],[\"l\",[\"Ref\",\"fndag/00af3ebd6316f5f8429a26b366de10ac\"],[\"FnDag\",[\"l\",[\"Ref\",\"node/98b0b5c8c146cc5d30a29c3e16efe879\"],[\"Ref\",\"node/75fe9bcf53e4ffe69419d6b8224c5b3a\"]],[\"d\"],[\"Ref\",\"node/75fe9bcf53e4ffe69419d6b8224c5b3a\"],null,[\"Ref\",\"node/98b0b5c8c146cc5d30a29c3e16efe879\"]]],[\"l\",[\"Ref\",\"node/d6ae57154c044d9fe1c60a692864a903\"],[\"Node\",[\"Literal\",[\"Ref\",\"datum/582b76a8f38c91dc854930ec03a26248\"]],null]],[\"l\",[\"Ref\",\"node/2001fb16d569e2cbec1d2c0a70998ca8\"],[\"Node\",[\"Literal\",[\"Ref\",\"datum/06160c56e82f3cc84741f873fe55c77f\"]],null]],[\"l\",[\"Ref\",\"node/42178f4226470d284f4e7d2d565e373b\"],[\"Node\",[\"Fn\",[\"Ref\",\"fndag/f70127ee0ec9de0861e55228f7be4d91\"],null,[\"l\",[\"Ref\",\"node/2897105bc5d576a77589dc68b5e9cce4\"],[\"Ref\",\"node/69af16560fe1ac5625253fb5d343462a\"],[\"Ref\",\"node/d88e71ed55ab1d0e60595c59d5ff5112\"]]],null]],[\"l\",[\"Ref\",\"node/d88e71ed55ab1d0e60595c59d5ff5112\"],[\"Node\",[\"Literal\",[\"Ref\",\"datum/0443ff77768b8cff90b49fad4c3ce034\"]],null]],[\"l\",[\"Ref\",\"node/138989b24b1d54c9f6e361134062f2b5\"],[\"Node\",[\"Fn\",[\"Ref\",\"fndag/2aa3e9ffaba0147b38d97cb60a7526d4\"],null,[\"l\",[\"Ref\",\"node/2897105bc5d576a77589dc68b5e9cce4\"],[\"Ref\",\"node/69af16560fe1ac5625253fb5d343462a\"],[\"Ref\",\"node/240f8b4436280c980315cb45d37cc2d0\"]]],null]],[\"l\",[\"Ref\",\"node/240f8b4436280c980315cb45d37cc2d0\"],[\"Node\",[\"Literal\",[\"Ref\",\"datum/e3daf00b1fd186b4da8697b086d825c0\"]],null]],[\"l\",[\"Ref\",\"node/2897105bc5d576a77589dc68b5e9cce4\"],[\"Node\",[\"Literal\",[\"Ref\",\"datum/812fa348d6ee56d11eac119e4d6a09d4\"]],null]],[\"l\",[\"Ref\",\"node/e2020fbf0a4f7357fd63d40186f41d5b\"],[\"Node\",[\"Literal\",[\"Ref\",\"datum/2108bfcb660d433a8962c8b4782d60b3\"]],null]],[\"l\",[\"Ref\",\"node/d406583ebd98adcb6c10a90b49da0639\"],[\"Node\",[\"Literal\",[\"Ref\",\"datum/3306ed4ea88f4a0927444be51dbeb2e4\"]],null]],[\"l\",[\"Ref\",\"node/69af16560fe1ac5625253fb5d343462a\"],[\"Node\",[\"Argv\",[\"Ref\",\"datum/a2b82e541ec19cfcc8021b3794b92c02\"]],null]],[\"l\",[\"Ref\",\"node/8f8acdc51a6184f7edab3855c01fc193\"],[\"Node\",[\"Fn\",[\"Ref\",\"fndag/00af3ebd6316f5f8429a26b366de10ac\"],null,[\"l\",[\"Ref\",\"node/2897105bc5d576a77589dc68b5e9cce4\"],[\"Ref\",\"node/2001fb16d569e2cbec1d2c0a70998ca8\"],[\"Ref\",\"node/d6ae57154c044d9fe1c60a692864a903\"]]],null]],[\"l\",[\"Ref\",\"fndag/102f0f428bb474356626dcd373d4e8bc\"],[\"FnDag\",[\"l\",[\"Ref\",\"node/69af16560fe1ac5625253fb5d343462a\"],[\"Ref\",\"node/d406583ebd98adcb6c10a90b49da0639\"],[\"Ref\",\"node/e2020fbf0a4f7357fd63d40186f41d5b\"],[\"Ref\",\"node/2897105bc5d576a77589dc68b5e9cce4\"],[\"Ref\",\"node/240f8b4436280c980315cb45d37cc2d0\"],[\"Ref\",\"node/138989b24b1d54c9f6e361134062f2b5\"],[\"Ref\",\"node/d88e71ed55ab1d0e60595c59d5ff5112\"],[\"Ref\",\"node/42178f4226470d284f4e7d2d565e373b\"],[\"Ref\",\"node/2001fb16d569e2cbec1d2c0a70998ca8\"],[\"Ref\",\"node/d6ae57154c044d9fe1c60a692864a903\"],[\"Ref\",\"node/8f8acdc51a6184f7edab3855c01fc193\"]],[\"d\",[\".dml/env\",[\"Ref\",\"node/e2020fbf0a4f7357fd63d40186f41d5b\"]],[\".dml/git\",[\"Ref\",\"node/d406583ebd98adcb6c10a90b49da0639\"]],[\"daggerml:get\",[\"Ref\",\"node/2897105bc5d576a77589dc68b5e9cce4\"]],[\"info\",[\"Ref\",\"node/2001fb16d569e2cbec1d2c0a70998ca8\"]]],[\"Ref\",\"node/8f8acdc51a6184f7edab3855c01fc193\"],null,[\"Ref\",\"node/69af16560fe1ac5625253fb5d343462a\"]]]]\\n'\n",
      "[8f486dcb] INFO dml_util.adapters.base: message: 'scriptrunner [a2b82e541ec19cfcc8021b3794b92c02] :: pid = 151040 finished'\n",
      "scriptrunner [a2b82e541ec19cfcc8021b3794b92c02] :: pid = 151040 finished\n"
     ]
    }
   ],
   "source": [
    "\n",
    "excludes = [\n",
    "    \"tests/*.py\",\n",
    "    \".pytest_cache\",\n",
    "    \".ruff_cache\",\n",
    "    \"__pycache__\",\n",
    "    \"examples\",\n",
    "    \".venv\",\n",
    "    \"**/.venv\",\n",
    "]\n",
    "\n",
    "dag.tar = s3.tar(dml, DOCKER_CONTEXT_DIR, excludes=excludes)\n",
    "dag.dkr = funk.dkr_build\n",
    "dag.img = dag.dkr(\n",
    "    dag.tar,\n",
    "    [\"--platform\", \"linux/amd64\"],\n",
    "    timeout=60_000,\n",
    ")\n",
    "dag.fn = funkify(\n",
    "    fn,\n",
    "    \"docker\",\n",
    "    {\"image\": dag.img.value(), \"flags\": DOCKER_FLAGS},\n",
    "    adapter=\"local\",\n",
    ")"
   ]
  },
  {
   "cell_type": "code",
   "execution_count": 27,
   "id": "c681b091",
   "metadata": {},
   "outputs": [
    {
     "name": "stdout",
     "output_type": "stream",
     "text": [
      "Defaulting to user installation because normal site-packages is not writeable\n",
      "Collecting scikit-learn\n",
      "  Using cached scikit_learn-1.3.2-cp38-cp38-manylinux_2_17_x86_64.manylinux2014_x86_64.whl.metadata (11 kB)\n",
      "Requirement already satisfied: numpy<2.0,>=1.17.3 in /home/daavid/.local/lib/python3.8/site-packages (from scikit-learn) (1.24.4)\n",
      "Collecting scipy>=1.5.0 (from scikit-learn)\n",
      "  Downloading scipy-1.10.1-cp38-cp38-manylinux_2_17_x86_64.manylinux2014_x86_64.whl.metadata (58 kB)\n",
      "Collecting joblib>=1.1.1 (from scikit-learn)\n",
      "  Downloading joblib-1.4.2-py3-none-any.whl.metadata (5.4 kB)\n",
      "Collecting threadpoolctl>=2.0.0 (from scikit-learn)\n",
      "  Downloading threadpoolctl-3.5.0-py3-none-any.whl.metadata (13 kB)\n",
      "Using cached scikit_learn-1.3.2-cp38-cp38-manylinux_2_17_x86_64.manylinux2014_x86_64.whl (11.1 MB)\n",
      "Downloading joblib-1.4.2-py3-none-any.whl (301 kB)\n",
      "Using cached scipy-1.10.1-cp38-cp38-manylinux_2_17_x86_64.manylinux2014_x86_64.whl (34.5 MB)\n",
      "Downloading threadpoolctl-3.5.0-py3-none-any.whl (18 kB)\n",
      "Installing collected packages: threadpoolctl, scipy, joblib, scikit-learn\n",
      "Successfully installed joblib-1.4.2 scikit-learn-1.3.2 scipy-1.10.1 threadpoolctl-3.5.0\n"
     ]
    }
   ],
   "source": [
    "!pip install scikit-learn"
   ]
  },
  {
   "cell_type": "code",
   "execution_count": 46,
   "id": "510eebe8",
   "metadata": {},
   "outputs": [],
   "source": [
    "@funkify(uri=\"docker\",data={\"image\":dag.img.value(), \"flags\": DOCKER_FLAGS})\n",
    "@funkify\n",
    "def load_data(dag):\n",
    "    from tempfile import NamedTemporaryFile\n",
    "    from dml_util import S3Store\n",
    "    from sklearn.datasets import load_iris\n",
    "    from sklearn.model_selection import train_test_split\n",
    "    import pandas as pd\n",
    "    s3 = S3Store()\n",
    "    params = dag.argv[1].value()\n",
    "    X, y = load_iris(as_frame=True, return_X_y=True)\n",
    "    splits = train_test_split(X, y, random_state=params[\"random_state\"])\n",
    "    out = {}\n",
    "    for name, spl in zip([\"X_train\", \"X_test\", \"y_train\", \"y_test\"], splits):\n",
    "        with NamedTemporaryFile() as temp:\n",
    "            if isinstance(spl,pd.Series):\n",
    "                spl = spl.to_frame(\"class\")\n",
    "            spl.to_parquet(temp.name)\n",
    "            temp.seek(0)\n",
    "            out[name] = s3.put(filepath=temp.name, suffix=\".parquet\")\n",
    "\n",
    "    return out \n",
    "\n",
    "dag.load_data = load_data\n",
    "params = {\"random_state\": 2}\n",
    "data = dag.load_data(params, name=\"iris\")\n",
    "    "
   ]
  },
  {
   "cell_type": "code",
   "execution_count": null,
   "id": "8ee63248",
   "metadata": {},
   "outputs": [],
   "source": [
    "@funkify\n",
    "def fit_hdbscan():\n",
    "    #TODO\n",
    "    #find a way to serialize the model (pickle?)\n",
    "    #send to s3 store\n",
    "    pass"
   ]
  },
  {
   "cell_type": "code",
   "execution_count": 49,
   "id": "a9f31115",
   "metadata": {},
   "outputs": [
    {
     "data": {
      "text/plain": [
       "DictNode(node/e7fc3349e17724d182f1d623f348a94a)"
      ]
     },
     "execution_count": 49,
     "metadata": {},
     "output_type": "execute_result"
    }
   ],
   "source": [
    "dag.iris"
   ]
  },
  {
   "cell_type": "code",
   "execution_count": 52,
   "id": "3b563eb0",
   "metadata": {},
   "outputs": [
    {
     "data": {
      "text/plain": [
       "['X_test', 'X_train', 'y_test', 'y_train']"
      ]
     },
     "execution_count": 52,
     "metadata": {},
     "output_type": "execute_result"
    }
   ],
   "source": [
    "data.keys()"
   ]
  }
 ],
 "metadata": {
  "kernelspec": {
   "display_name": ".venv",
   "language": "python",
   "name": "python3"
  },
  "language_info": {
   "codemirror_mode": {
    "name": "ipython",
    "version": 3
   },
   "file_extension": ".py",
   "mimetype": "text/x-python",
   "name": "python",
   "nbconvert_exporter": "python",
   "pygments_lexer": "ipython3",
   "version": "3.10.17"
  }
 },
 "nbformat": 4,
 "nbformat_minor": 5
}
